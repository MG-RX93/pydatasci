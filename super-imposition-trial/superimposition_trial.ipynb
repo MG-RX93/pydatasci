{
  "cells": [
    {
      "cell_type": "markdown",
      "metadata": {},
      "source": [
        "# Imports"
      ]
    },
    {
      "cell_type": "code",
      "execution_count": null,
      "metadata": {
        "id": "kHraZmlkdkT_"
      },
      "outputs": [],
      "source": [
        "import cv2\n",
        "from cv2 import dnn_superres"
      ]
    },
    {
      "cell_type": "markdown",
      "metadata": {},
      "source": [
        "# Creating a superresolution model"
      ]
    },
    {
      "cell_type": "code",
      "execution_count": null,
      "metadata": {
        "id": "gCBRYAfTdt4E"
      },
      "outputs": [],
      "source": [
        "sr = dnn_superres.DnnSuperResImpl_create()\n"
      ]
    },
    {
      "cell_type": "markdown",
      "metadata": {},
      "source": [
        "# Make sure you download the right file from [here](https://drive.google.com/drive/u/0/folders/17VYV_SoZZesU6mbxz2dMAIccSSlqLecY)"
      ]
    },
    {
      "cell_type": "code",
      "execution_count": null,
      "metadata": {
        "id": "WN0r-ihIdx2_"
      },
      "outputs": [],
      "source": [
        "path = 'EDSR_x4.pb'\n",
        "sr.readModel(path)\n",
        "\n",
        "sr.setModel('edsr', 4)"
      ]
    },
    {
      "cell_type": "markdown",
      "metadata": {},
      "source": [
        "# Accessing GPUS using CUDA requires NVIDIA"
      ]
    },
    {
      "cell_type": "code",
      "execution_count": null,
      "metadata": {
        "id": "LEJWKbxef7Vk"
      },
      "outputs": [],
      "source": [
        "sr.setPreferableBackend(cv2.dnn.DNN_BACKEND_CUDA)\n",
        "sr.setPreferableTarget(cv2.dnn.DNN_TARGET_CUDA)"
      ]
    },
    {
      "cell_type": "markdown",
      "metadata": {},
      "source": [
        "# Reading and Upscaling image"
      ]
    },
    {
      "cell_type": "code",
      "execution_count": null,
      "metadata": {
        "id": "J1lEOh2eZ4Ep"
      },
      "outputs": [],
      "source": [
        "image = cv2.imread('testside.jpg')\n",
        "upscaled = sr.upsample(image)"
      ]
    },
    {
      "cell_type": "markdown",
      "metadata": {},
      "source": [
        "# Writing Upscaled Model"
      ]
    },
    {
      "cell_type": "code",
      "execution_count": null,
      "metadata": {
        "id": "q6KvHSEjajSR"
      },
      "outputs": [],
      "source": [
        "cv2.imwrite('upscaled1.png', upscaled)"
      ]
    },
    {
      "cell_type": "code",
      "execution_count": null,
      "metadata": {
        "colab": {
          "base_uri": "https://localhost:8080/"
        },
        "id": "957salDsawcp",
        "outputId": "e9a46a96-b2c2-4628-e53b-06a5129b7125"
      },
      "outputs": [
        {
          "data": {
            "text/plain": [
              "True"
            ]
          },
          "execution_count": 13,
          "metadata": {},
          "output_type": "execute_result"
        }
      ],
      "source": []
    },
    {
      "cell_type": "code",
      "execution_count": null,
      "metadata": {
        "id": "GddCIk6IbIdI"
      },
      "outputs": [],
      "source": []
    }
  ],
  "metadata": {
    "colab": {
      "provenance": []
    },
    "kernelspec": {
      "display_name": "Python 3",
      "name": "python3"
    },
    "language_info": {
      "name": "python"
    }
  },
  "nbformat": 4,
  "nbformat_minor": 0
}
