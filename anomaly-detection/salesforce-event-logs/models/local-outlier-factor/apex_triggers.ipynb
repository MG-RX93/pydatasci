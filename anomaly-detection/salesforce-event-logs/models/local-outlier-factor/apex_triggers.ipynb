{
 "cells": [
  {
   "cell_type": "markdown",
   "metadata": {},
   "source": [
    "## Run Imports"
   ]
  },
  {
   "cell_type": "code",
   "execution_count": 1,
   "metadata": {},
   "outputs": [],
   "source": [
    "import pandas as pd\n",
    "from sklearn.neighbors import LocalOutlierFactor\n",
    "import warnings\n",
    "from sklearn.preprocessing import StandardScaler\n",
    "import scipy.stats as stats\n",
    "\n",
    "# Ignore all warnings\n",
    "warnings.filterwarnings('ignore')"
   ]
  },
  {
   "cell_type": "markdown",
   "metadata": {},
   "source": [
    "# Read parquet file"
   ]
  },
  {
   "cell_type": "code",
   "execution_count": null,
   "metadata": {},
   "outputs": [],
   "source": [
    "# Replace 'path/to/your/file.parquet' with the actual file path\n",
    "parquet_file = 'path/to/your/file.parquet'\n",
    "\n",
    "# Read the Parquet file\n",
    "df_required = pd.read_parquet(parquet_file)\n",
    "\n",
    "\n",
    "df_required"
   ]
  },
  {
   "cell_type": "markdown",
   "metadata": {},
   "source": [
    "## Calculating aggregates"
   ]
  },
  {
   "cell_type": "code",
   "execution_count": null,
   "metadata": {},
   "outputs": [],
   "source": [
    "groupedStats = df_required.groupby('TRIGGER_NAME')['CPU_TIME'].agg(['max','mean','std', 'var']).round(2).fillna(0)\n",
    "\n",
    "groupedStats"
   ]
  },
  {
   "cell_type": "markdown",
   "metadata": {},
   "source": [
    "# For standardization"
   ]
  },
  {
   "cell_type": "code",
   "execution_count": 151,
   "metadata": {},
   "outputs": [],
   "source": [
    "# # Initialize the scaler\n",
    "# scaler = StandardScaler()\n",
    "\n",
    "\n",
    "# # Fit the scaler to the data and transform it\n",
    "# scaled_features = scaler.fit_transform(df_required[['CPU_TIME']])\n",
    "\n",
    "# # Convert the scaled features back into a DataFrame\n",
    "# df_required['CPU_TIME'] = scaled_features"
   ]
  },
  {
   "cell_type": "markdown",
   "metadata": {},
   "source": [
    "## Local Outlier Factor model"
   ]
  },
  {
   "cell_type": "code",
   "execution_count": null,
   "metadata": {},
   "outputs": [],
   "source": [
    "model = LocalOutlierFactor(n_neighbors=350, contamination=0.2)\n",
    "localOutlierFactor_model = model.fit_predict(groupedStats)\n",
    "localOutlierFactor_model"
   ]
  },
  {
   "cell_type": "markdown",
   "metadata": {},
   "source": [
    "## Add Anomalies"
   ]
  },
  {
   "cell_type": "code",
   "execution_count": null,
   "metadata": {},
   "outputs": [],
   "source": [
    "groupedStats['ANOMALIES'] = localOutlierFactor_model\n",
    "groupedStats"
   ]
  },
  {
   "cell_type": "markdown",
   "metadata": {},
   "source": [
    "## LOF model anomalies"
   ]
  },
  {
   "cell_type": "code",
   "execution_count": null,
   "metadata": {},
   "outputs": [],
   "source": [
    "groupedStats_req = groupedStats.loc[groupedStats['ANOMALIES'] == -1]\n",
    "groupedStats_req"
   ]
  },
  {
   "cell_type": "markdown",
   "metadata": {},
   "source": [
    "## Filter results based on max of CPU Time"
   ]
  },
  {
   "cell_type": "code",
   "execution_count": null,
   "metadata": {},
   "outputs": [],
   "source": [
    "filteredStats = groupedStats_req[groupedStats_req['max'] > 3000]"
   ]
  },
  {
   "cell_type": "markdown",
   "metadata": {},
   "source": [
    "## Output to CSV"
   ]
  },
  {
   "cell_type": "code",
   "execution_count": 22,
   "metadata": {},
   "outputs": [],
   "source": [
    "# Save the DataFrame to 'output.csv'\n",
    "filteredStats.to_csv('apex_triggers_local_outlier_factor.csv', index=True)\n"
   ]
  }
 ],
 "metadata": {
  "kernelspec": {
   "display_name": "Python 3",
   "language": "python",
   "name": "python3"
  },
  "language_info": {
   "codemirror_mode": {
    "name": "ipython",
    "version": 3
   },
   "file_extension": ".py",
   "mimetype": "text/x-python",
   "name": "python",
   "nbconvert_exporter": "python",
   "pygments_lexer": "ipython3",
   "version": "3.9.6"
  }
 },
 "nbformat": 4,
 "nbformat_minor": 2
}
