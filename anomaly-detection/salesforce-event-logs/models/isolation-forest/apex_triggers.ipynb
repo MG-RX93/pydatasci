{
 "cells": [
  {
   "cell_type": "markdown",
   "metadata": {},
   "source": [
    "## Run Imports"
   ]
  },
  {
   "cell_type": "code",
   "execution_count": 1,
   "metadata": {},
   "outputs": [],
   "source": [
    "import pandas as pd\n",
    "from sklearn.ensemble import IsolationForest\n",
    "import warnings\n",
    "from sklearn.preprocessing import StandardScaler\n",
    "import scipy.stats as stats\n",
    "\n",
    "# Ignore all warnings\n",
    "warnings.filterwarnings('ignore')"
   ]
  },
  {
   "cell_type": "markdown",
   "metadata": {},
   "source": [
    "# Read parquet file"
   ]
  },
  {
   "cell_type": "code",
   "execution_count": null,
   "metadata": {},
   "outputs": [],
   "source": [
    "# Replace 'path/to/your/file.parquet' with the actual file path\n",
    "parquet_file = 'path/to/your/file.parquet'\n",
    "\n",
    "# Read the Parquet file\n",
    "df_required = pd.read_parquet(parquet_file)\n",
    "\n",
    "\n",
    "df_required"
   ]
  },
  {
   "cell_type": "markdown",
   "metadata": {},
   "source": [
    "## Calculating aggregates"
   ]
  },
  {
   "cell_type": "code",
   "execution_count": null,
   "metadata": {},
   "outputs": [],
   "source": [
    "groupedStats = df_required.groupby('TRIGGER_NAME')['CPU_TIME'].agg(['max','mean','std', 'var']).round(2).fillna(0)\n",
    "\n",
    "groupedStats"
   ]
  },
  {
   "cell_type": "markdown",
   "metadata": {},
   "source": [
    "# For standardization"
   ]
  },
  {
   "cell_type": "code",
   "execution_count": 151,
   "metadata": {},
   "outputs": [],
   "source": [
    "# # Initialize the scaler\n",
    "# scaler = StandardScaler()\n",
    "\n",
    "\n",
    "# # Fit the scaler to the data and transform it\n",
    "# scaled_features = scaler.fit_transform(df_required[['CPU_TIME']])\n",
    "\n",
    "# # Convert the scaled features back into a DataFrame\n",
    "# df_required['CPU_TIME'] = scaled_features"
   ]
  },
  {
   "cell_type": "markdown",
   "metadata": {},
   "source": [
    "# Isolation Forest model"
   ]
  },
  {
   "cell_type": "code",
   "execution_count": null,
   "metadata": {},
   "outputs": [],
   "source": [
    "model = IsolationForest(n_estimators=350, max_samples='auto', contamination='auto', max_features=1.0)\n",
    "isolationForest_model = model.fit_predict(groupedStats)\n",
    "isolationForest_model"
   ]
  },
  {
   "cell_type": "markdown",
   "metadata": {},
   "source": [
    "## Add Anomalies"
   ]
  },
  {
   "cell_type": "code",
   "execution_count": null,
   "metadata": {},
   "outputs": [],
   "source": [
    "groupedStats['ANOMALIES'] = isolationForest_model\n",
    "groupedStats"
   ]
  },
  {
   "cell_type": "markdown",
   "metadata": {},
   "source": [
    "## Print Anomalies"
   ]
  },
  {
   "cell_type": "code",
   "execution_count": null,
   "metadata": {},
   "outputs": [],
   "source": [
    "groupedStats_req = groupedStats.loc[groupedStats['ANOMALIES'] == -1]\n",
    "\n",
    "groupedStats_req"
   ]
  },
  {
   "cell_type": "markdown",
   "metadata": {},
   "source": [
    "## Output to CSV"
   ]
  },
  {
   "cell_type": "code",
   "execution_count": 22,
   "metadata": {},
   "outputs": [],
   "source": [
    "# Save the DataFrame to 'output.csv'\n",
    "groupedStats_req.to_csv('apex_triggers_isolation_forest.csv', index=True)\n"
   ]
  }
 ],
 "metadata": {
  "kernelspec": {
   "display_name": "Python 3",
   "language": "python",
   "name": "python3"
  },
  "language_info": {
   "codemirror_mode": {
    "name": "ipython",
    "version": 3
   },
   "file_extension": ".py",
   "mimetype": "text/x-python",
   "name": "python",
   "nbconvert_exporter": "python",
   "pygments_lexer": "ipython3",
   "version": "3.9.6"
  }
 },
 "nbformat": 4,
 "nbformat_minor": 2
}
